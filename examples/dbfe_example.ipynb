{
 "cells": [
  {
   "cell_type": "code",
   "execution_count": 27,
   "id": "25fd1f1a",
   "metadata": {
    "ExecuteTime": {
     "end_time": "2022-01-07T12:46:57.721243Z",
     "start_time": "2022-01-07T12:46:57.702299Z"
    }
   },
   "outputs": [],
   "source": [
    "import seaborn as sns\n",
    "import pandas as pd\n",
    "\n",
    "from sklearn.metrics import roc_auc_score\n",
    "from sklearn.model_selection import train_test_split\n",
    "from sklearn.pipeline import make_pipeline\n",
    "from sklearn.preprocessing import StandardScaler\n",
    "from sklearn.linear_model import LogisticRegression\n",
    "\n",
    "import dbfe"
   ]
  },
  {
   "cell_type": "code",
   "execution_count": 25,
   "id": "c10038cb",
   "metadata": {
    "ExecuteTime": {
     "end_time": "2022-01-07T12:46:28.674856Z",
     "start_time": "2022-01-07T12:46:28.544194Z"
    }
   },
   "outputs": [
    {
     "data": {
      "text/html": [
       "<div>\n",
       "<style scoped>\n",
       "    .dataframe tbody tr th:only-of-type {\n",
       "        vertical-align: middle;\n",
       "    }\n",
       "\n",
       "    .dataframe tbody tr th {\n",
       "        vertical-align: top;\n",
       "    }\n",
       "\n",
       "    .dataframe thead th {\n",
       "        text-align: right;\n",
       "    }\n",
       "</style>\n",
       "<table border=\"1\" class=\"dataframe\">\n",
       "  <thead>\n",
       "    <tr style=\"text-align: right;\">\n",
       "      <th></th>\n",
       "      <th>LEN</th>\n",
       "      <th>CLASS_LABEL</th>\n",
       "    </tr>\n",
       "  </thead>\n",
       "  <tbody>\n",
       "    <tr>\n",
       "      <th>CPCT02010646T</th>\n",
       "      <td>[339068, 99019, 124463, 75553, 157365, 88249, ...</td>\n",
       "      <td>0</td>\n",
       "    </tr>\n",
       "    <tr>\n",
       "      <th>CPCT02010679T</th>\n",
       "      <td>[28911668, 90828442, 174326, 162267, 30594, 77...</td>\n",
       "      <td>0</td>\n",
       "    </tr>\n",
       "    <tr>\n",
       "      <th>CPCT02020307T</th>\n",
       "      <td>[1776581, 124818, 716325, 7281449, 2640338, 36...</td>\n",
       "      <td>1</td>\n",
       "    </tr>\n",
       "    <tr>\n",
       "      <th>CPCT02020333T</th>\n",
       "      <td>[767016, 1689640, 28817694, 28186777, 1394127,...</td>\n",
       "      <td>1</td>\n",
       "    </tr>\n",
       "    <tr>\n",
       "      <th>CPCT02020420T</th>\n",
       "      <td>[2366861, 10411937, 59616662, 44211, 13166450,...</td>\n",
       "      <td>0</td>\n",
       "    </tr>\n",
       "    <tr>\n",
       "      <th>...</th>\n",
       "      <td>...</td>\n",
       "      <td>...</td>\n",
       "    </tr>\n",
       "    <tr>\n",
       "      <th>TCGA-36-1570-01A</th>\n",
       "      <td>[37248, 198462, 11435934, 21717737, 7998166, 1...</td>\n",
       "      <td>1</td>\n",
       "    </tr>\n",
       "    <tr>\n",
       "      <th>TCGA-36-1571-01A</th>\n",
       "      <td>[44211, 335207, 315813, 2516724, 631985, 15648...</td>\n",
       "      <td>1</td>\n",
       "    </tr>\n",
       "    <tr>\n",
       "      <th>TCGA-36-1574-01A</th>\n",
       "      <td>[26054, 10585377, 47714, 1990, 356342, 4932892...</td>\n",
       "      <td>1</td>\n",
       "    </tr>\n",
       "    <tr>\n",
       "      <th>TCGA-61-2000-01A</th>\n",
       "      <td>[122287, 512304, 78553, 77328, 48860, 115082, ...</td>\n",
       "      <td>0</td>\n",
       "    </tr>\n",
       "    <tr>\n",
       "      <th>TCGA-61-2095-01A</th>\n",
       "      <td>[317820, 108414, 27537, 20164, 10982, 164887, ...</td>\n",
       "      <td>0</td>\n",
       "    </tr>\n",
       "  </tbody>\n",
       "</table>\n",
       "<p>144 rows × 2 columns</p>\n",
       "</div>"
      ],
      "text/plain": [
       "                                                                LEN  \\\n",
       "CPCT02010646T     [339068, 99019, 124463, 75553, 157365, 88249, ...   \n",
       "CPCT02010679T     [28911668, 90828442, 174326, 162267, 30594, 77...   \n",
       "CPCT02020307T     [1776581, 124818, 716325, 7281449, 2640338, 36...   \n",
       "CPCT02020333T     [767016, 1689640, 28817694, 28186777, 1394127,...   \n",
       "CPCT02020420T     [2366861, 10411937, 59616662, 44211, 13166450,...   \n",
       "...                                                             ...   \n",
       "TCGA-36-1570-01A  [37248, 198462, 11435934, 21717737, 7998166, 1...   \n",
       "TCGA-36-1571-01A  [44211, 335207, 315813, 2516724, 631985, 15648...   \n",
       "TCGA-36-1574-01A  [26054, 10585377, 47714, 1990, 356342, 4932892...   \n",
       "TCGA-61-2000-01A  [122287, 512304, 78553, 77328, 48860, 115082, ...   \n",
       "TCGA-61-2095-01A  [317820, 108414, 27537, 20164, 10982, 164887, ...   \n",
       "\n",
       "                  CLASS_LABEL  \n",
       "CPCT02010646T               0  \n",
       "CPCT02010679T               0  \n",
       "CPCT02020307T               1  \n",
       "CPCT02020333T               1  \n",
       "CPCT02020420T               0  \n",
       "...                       ...  \n",
       "TCGA-36-1570-01A            1  \n",
       "TCGA-36-1571-01A            1  \n",
       "TCGA-36-1574-01A            1  \n",
       "TCGA-61-2000-01A            0  \n",
       "TCGA-61-2095-01A            0  \n",
       "\n",
       "[144 rows x 2 columns]"
      ]
     },
     "execution_count": 25,
     "metadata": {},
     "output_type": "execute_result"
    }
   ],
   "source": [
    "variant_type = \"DEL\"\n",
    "pos_class = \"RES\"\n",
    "\n",
    "stat_vals = pd.read_csv(f\"../experiments/data/ovarian/ovarian_cnv.csv.gz\", index_col='SAMPLEID')\n",
    "stat_vals = stat_vals.loc[stat_vals.SVCLASS == variant_type, :]\n",
    "stat_vals = stat_vals.groupby(stat_vals.index)['LEN'].apply(list).to_frame()\n",
    "\n",
    "labels = pd.read_csv(f\"../experiments/data/ovarian/labels.tsv\", sep='\\t', index_col=0)\n",
    "labels = (labels == pos_class) * 1\n",
    "stat_df = stat_vals.join(labels.CLASS_LABEL, how='inner')\n",
    "\n",
    "stat_df"
   ]
  },
  {
   "cell_type": "code",
   "execution_count": 26,
   "id": "a6bad4e5",
   "metadata": {
    "ExecuteTime": {
     "end_time": "2022-01-07T12:46:30.525126Z",
     "start_time": "2022-01-07T12:46:30.514790Z"
    }
   },
   "outputs": [],
   "source": [
    "X = stat_df.loc[:, \"LEN\"]\n",
    "y = stat_df.loc[:, \"CLASS_LABEL\"]\n",
    "X_train, X_test, y_train, y_test = train_test_split(X, y, test_size=0.25, random_state=23, stratify=y)"
   ]
  },
  {
   "cell_type": "code",
   "execution_count": 35,
   "id": "565a9568",
   "metadata": {
    "ExecuteTime": {
     "end_time": "2022-01-07T12:52:04.140038Z",
     "start_time": "2022-01-07T12:52:02.417006Z"
    }
   },
   "outputs": [
    {
     "data": {
      "image/png": "[encoded data removed]",
      "text/plain": [
       "<Figure size 432x288 with 1 Axes>"
      ]
     },
     "metadata": {
      "needs_background": "light"
     },
     "output_type": "display_data"
    },
    {
     "name": "stdout",
     "output_type": "stream",
     "text": [
      "AUC on test data: 0.694\n"
     ]
    }
   ],
   "source": [
    "extractor = dbfe.DistributionBasedFeatureExtractor(breakpoint_type='supervised', n_bins='auto', cv=10)\n",
    "pipe = make_pipeline(extractor, StandardScaler(), LogisticRegression())\n",
    "pipe.fit(X_train, y_train)\n",
    "\n",
    "extractor.plot_data_with_breaks(X_train, y_train, plot_type='kde')\n",
    "y_prob = pipe.predict_proba(X_test)\n",
    "print(\"AUC on test data: {:.3}\".format(roc_auc_score(y_test, y_prob[:, 1])))"
   ]
  },
  {
   "cell_type": "code",
   "execution_count": null,
   "id": "411e1977",
   "metadata": {},
   "outputs": [],
   "source": []
  }
 ],
 "metadata": {
  "hide_input": false,
  "kernelspec": {
   "display_name": "Python 3 (ipykernel)",
   "language": "python",
   "name": "python3"
  },
  "language_info": {
   "codemirror_mode": {
    "name": "ipython",
    "version": 3
   },
   "file_extension": ".py",
   "mimetype": "text/x-python",
   "name": "python",
   "nbconvert_exporter": "python",
   "pygments_lexer": "ipython3",
   "version": "3.7.9"
  },
  "toc": {
   "base_numbering": 1,
   "nav_menu": {},
   "number_sections": true,
   "sideBar": true,
   "skip_h1_title": false,
   "title_cell": "Table of Contents",
   "title_sidebar": "Contents",
   "toc_cell": false,
   "toc_position": {},
   "toc_section_display": true,
   "toc_window_display": true
  },
  "varInspector": {
   "cols": {
    "lenName": 16,
    "lenType": 16,
    "lenVar": 40
   },
   "kernels_config": {
    "python": {
     "delete_cmd_postfix": "",
     "delete_cmd_prefix": "del ",
     "library": "var_list.py",
     "varRefreshCmd": "print(var_dic_list())"
    },
    "r": {
     "delete_cmd_postfix": ") ",
     "delete_cmd_prefix": "rm(",
     "library": "var_list.r",
     "varRefreshCmd": "cat(var_dic_list()) "
    }
   },
   "types_to_exclude": [
    "module",
    "function",
    "builtin_function_or_method",
    "instance",
    "_Feature"
   ],
   "window_display": false
  }
 },
 "nbformat": 4,
 "nbformat_minor": 5
}
